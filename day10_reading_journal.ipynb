{
 "cells": [
  {
   "cell_type": "markdown",
   "metadata": {},
   "source": [
    "# Day 10 Reading Journal\n",
    "\n",
    "This journal includes several required exercises, but it is meant to encourage active reading more generally.  You should use the journal to take detailed notes, catalog questions, and explore the content from Think Python deeply.\n",
    "\n",
    "Reading: Think Python Chapter 16, 17\n",
    "\n",
    "**Due: Thursday, February 25 at 12 noon**\n",
    "\n"
   ]
  },
  {
   "cell_type": "markdown",
   "metadata": {},
   "source": [
    "## [Chapter 16](http://www.greenteapress.com/thinkpython/html/thinkpython017.html)\n"
   ]
  },
  {
   "cell_type": "markdown",
   "metadata": {
    "is_question": true,
    "problem": "Exercise 16.2"
   },
   "source": [
    "### Exercise 2  \n",
    "\n",
    "Write a boolean function called `is_after` that takes two `Time` objects, `t1` and `t2`, and returns `True` if `t1` follows `t2` chronologically and `False` otherwise. Challenge: don’t use an `if` statement. "
   ]
  },
  {
   "cell_type": "code",
   "execution_count": 19,
   "metadata": {
    "collapsed": false,
    "solution": "Exercise 16.2"
   },
   "outputs": [
    {
     "name": "stdout",
     "output_type": "stream",
     "text": [
      "True\n"
     ]
    }
   ],
   "source": [
    "class Time(object):\n",
    "    '''Represents the time of day.\n",
    "    \n",
    "    attributes: hour, minute, second\n",
    "    '''\n",
    "\n",
    "t1 =  Time()\n",
    "t1.hour = 11\n",
    "t1.minute =  59\n",
    "t1.second =  30\n",
    "\n",
    "t2 = Time()\n",
    "t2.hour = 11\n",
    "t2.minute = 59\n",
    "t2.second = 32\n",
    "\n",
    "def is_after(t1, t2):\n",
    "    return (t1.hour, t1.minute, t1.second) < (t2.hour, t2.minute, t2.second)\n",
    "    \n",
    "print is_after(t1,t2)\n",
    "    "
   ]
  },
  {
   "cell_type": "markdown",
   "metadata": {},
   "source": [
    "## [Chapter 17](http://www.greenteapress.com/thinkpython/html/thinkpython018.html)\n",
    "\n",
    "In chapter 17 we finally have the tools to really put user-defined classes to work! In the exercises for this reading journal, we'll go back and add methods to your `Point` class from Chapter 15 to make it a lot easier to use."
   ]
  },
  {
   "cell_type": "markdown",
   "metadata": {
    "is_question": true,
    "problem": "Exercise 17.2"
   },
   "source": [
    "### Exercise 2  \n",
    "\n",
    "Write an init method for the `Point` class that takes `x` and `y` as optional parameters and assigns them to the corresponding attributes. "
   ]
  },
  {
   "cell_type": "code",
   "execution_count": 23,
   "metadata": {
    "collapsed": false,
    "solution": "Exercise 17.2"
   },
   "outputs": [
    {
     "name": "stdout",
     "output_type": "stream",
     "text": [
      "(0, 0)\n",
      "(5, 9)\n"
     ]
    }
   ],
   "source": [
    "class Point(object):\n",
    "    '''takes x and y as optional parameters and assigns them to the corresponding attributes'''\n",
    "    def __init__(self, x=0, y=0):\n",
    "        self.x = x\n",
    "        self.y = y\n",
    "        print (self.x, self.y)\n",
    "\n",
    "position = Point()\n",
    "position.__init__(5,9)\n"
   ]
  },
  {
   "cell_type": "markdown",
   "metadata": {
    "is_question": true,
    "problem": "Exercise 17.3"
   },
   "source": [
    "### Exercise 3  \n",
    "\n",
    "Write a str method for the `Point` class. Create a `Point` object and print it."
   ]
  },
  {
   "cell_type": "code",
   "execution_count": 25,
   "metadata": {
    "collapsed": false,
    "solution": "Exercise 17.3"
   },
   "outputs": [
    {
     "name": "stdout",
     "output_type": "stream",
     "text": [
      "('7', '9')\n"
     ]
    }
   ],
   "source": [
    "class Point(object):\n",
    "    def __str__(self, x=0, y=0):\n",
    "        self.x = str(x)\n",
    "        self.y = str(y)\n",
    "        print (self.x, self.y)\n",
    "position = Point()\n",
    "position.__str__(7,9)"
   ]
  },
  {
   "cell_type": "markdown",
   "metadata": {
    "is_question": true,
    "problem": "Exercise 17.4"
   },
   "source": [
    "### Exercise 4  \n",
    "\n",
    "Write an add method for the `Point` class. Optional: implement operator overloading so that you can use the '+' operator."
   ]
  },
  {
   "cell_type": "code",
   "execution_count": 30,
   "metadata": {
    "collapsed": false,
    "solution": "Exercise 17.4"
   },
   "outputs": [
    {
     "name": "stdout",
     "output_type": "stream",
     "text": [
      "(8, 10)\n"
     ]
    }
   ],
   "source": [
    "class Point(object):\n",
    "    def __init__(self, x=0, y=0):\n",
    "        self.x = x\n",
    "        self.y = y\n",
    "    def __add__ (self,z):\n",
    "        x = self.x +z.x\n",
    "        y = self.y + z.y\n",
    "        return x,y\n",
    "position = Point (5,6)\n",
    "position_2 = Point(3,4)\n",
    "print position + position_2\n"
   ]
  },
  {
   "cell_type": "markdown",
   "metadata": {
    "is_question": true,
    "problem": "Exercise 17.7"
   },
   "source": [
    "### Exercise 7  \n",
    "\n",
    "This exercise is a cautionary tale about one of the most common, and difficult to find, errors in Python. Write a definition for a class named `Kangaroo` with the following methods:\n",
    "\n",
    " 1. An `__init__` method that initializes an attribute named `pouch_contents` to an empty list.\n",
    " 2. A method named `put_in_pouch` that takes an object of any type and adds it to `pouch_contents`.\n",
    " 3. A `__str__` method that returns a string representation of the `Kangaroo` object and the contents of the pouch.\n",
    "\n",
    "Test your code by creating two `Kangaroo` objects, assigning them to variables named `kanga` and `roo`, and then adding `roo` to the contents of `kanga`’s pouch.\n",
    "\n",
    "Download http://thinkpython.com/code/BadKangaroo.py. It contains a solution to the previous problem with one big, nasty bug. Find and fix the bug.\n",
    "\n",
    "If you get stuck, you can download http://thinkpython.com/code/GoodKangaroo.py, which explains the problem and demonstrates a solution. "
   ]
  },
  {
   "cell_type": "code",
   "execution_count": 5,
   "metadata": {
    "collapsed": false,
    "solution": "Exercise 17.7"
   },
   "outputs": [
    {
     "name": "stdout",
     "output_type": "stream",
     "text": [
      "<__main__.Kangaroo object at 0x7fe2980e8590> with these contents in its pouch:\n",
      "    <__main__.Kangaroo object at 0x7fe2981487d0>\n",
      "    'cookies'\n",
      "    'skittles'\n",
      "    'chapstick'\n",
      "\n",
      "<__main__.Kangaroo object at 0x7fe2981487d0> with these contents in its pouch:\n"
     ]
    }
   ],
   "source": [
    "class Kangaroo (object):\n",
    "    \n",
    "    def __init__(self, contents = 0):\n",
    "        if contents == 0:\n",
    "            contents = []\n",
    "        self.pouch_contents = contents\n",
    "        \n",
    "    def __str__(self ):\n",
    "        string = [object.__str__(self) + ' with these contents in its pouch:']\n",
    "        for obj in self.pouch_contents:\n",
    "            new_string = '    ' + object.__str__(obj)\n",
    "            string.append(new_string)\n",
    "        return '\\n'.join (string)\n",
    "    \n",
    "    def put_in_pouch (self,x):\n",
    "        self.pouch_contents.append(x)\n",
    "\n",
    "kanga = Kangaroo ()\n",
    "roo = Kangaroo ()\n",
    "kanga.put_in_pouch  (roo)\n",
    "kanga.put_in_pouch ('cookies')\n",
    "kanga.put_in_pouch ('skittles')\n",
    "kanga.put_in_pouch ('chapstick')\n",
    "\n",
    "print kanga\n",
    "print roo"
   ]
  },
  {
   "cell_type": "markdown",
   "metadata": {
    "is_question": true,
    "problem": "Time spent"
   },
   "source": [
    "## Quick poll\n",
    "About how long did you spend working on this Reading Journal?"
   ]
  },
  {
   "cell_type": "markdown",
   "metadata": {
    "poll_response": true,
    "solution": "Time spent"
   },
   "source": [
    "about 30 minutes so far. I still need to read the chapters carefully and finish the last problem. I skimmed the reading really fast and just focused on doing problems when I realized this was due today.\n",
    "\n",
    "** update: 1 hour"
   ]
  },
  {
   "cell_type": "markdown",
   "metadata": {
    "is_question": true,
    "problem": "Feedback"
   },
   "source": [
    "## Reading Journal feedback\n",
    "\n",
    "Have any comments on this Reading Journal? Feel free to leave them below and we'll read them when you submit your journal entry. This could include suggestions to improve the exercises, topics you'd like to see covered in class next time, or other feedback.\n",
    "\n",
    "If you have Python questions or run into problems while completing the reading, you should post them to Piazza instead so you can get a quick response before your journal is submitted."
   ]
  },
  {
   "cell_type": "markdown",
   "metadata": {
    "feedback_response": true,
    "solution": "Feedback"
   },
   "source": [
    "I'm so sorry this is late. I had not realized that a reading journal had been posted for this week, and definitely did not know it was due today. Again, sorry it's late and I will be resubmitting when I have the last problem complete.\n",
    "\n",
    "**Update: I completed the last problem but was not able to do so without looking at the solution. I definitely would have needed a ninja's help to give me some direction to do this on my own. It would've been really helpful to have been given a little more notice about the reading journal in order to have more time/plan to go to ninja hours."
   ]
  }
 ],
 "metadata": {
  "celltoolbar": "Edit Metadata",
  "kernelspec": {
   "display_name": "Python 2",
   "language": "python",
   "name": "python2"
  },
  "language_info": {
   "codemirror_mode": {
    "name": "ipython",
    "version": 2
   },
   "file_extension": ".py",
   "mimetype": "text/x-python",
   "name": "python",
   "nbconvert_exporter": "python",
   "pygments_lexer": "ipython2",
   "version": "2.7.6"
  }
 },
 "nbformat": 4,
 "nbformat_minor": 0
}
