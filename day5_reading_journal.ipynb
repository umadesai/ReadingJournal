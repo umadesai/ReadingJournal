{
 "cells": [
  {
   "cell_type": "markdown",
   "metadata": {},
   "source": [
    "# Day 5 Reading Journal\n",
    "\n",
    "This journal includes several required exercises, but it is meant to encourage active reading more generally.  You should use the journal to take detailed notes, catalog questions, and explore the content from Think Python deeply.\n",
    "\n",
    "Reading: Think Python Chapter 4\n",
    "\n",
    "**Due: Monday, February 8 at 12 noon**\n",
    "\n"
   ]
  },
  {
   "cell_type": "markdown",
   "metadata": {},
   "source": [
    "## [Chapter 4](http://www.greenteapress.com/thinkpython/html/thinkpython005.html)\n",
    "\n",
    "In today's reading, you'll be exploring TurtleWorld!\n",
    "TurtleWorld is part of the [swampy](http://www.greenteapress.com/thinkpython/swampy/) package, written by Allen Downey.\n",
    "As part of the [Get Set](https://sites.google.com/site/sd16spring/home/assignments-and-mini-projects/setup-your-environment) assignment, you installed the swampy package using the pip Python package management tool. If you somehow missed that step or you see errors when you try to import TurtleWorld, you can install swampy by running:\n",
    "\n",
    "```\n",
    "sudo pip install swampy\n",
    "```\n",
    "\n",
    "at the command line.\n",
    "\n",
    "### Turtle wrangling\n",
    "\n",
    "You can always run your code as separate Python scripts, but here are a few tips for mixing TurtleWorld with Jupyter notebook:\n",
    "\n",
    " - TurtleWorld will appear in a new GUI window, rather than inline in the notebook like typical results do\n",
    " - You will not be able to close the TurtleWorld window unless you run `wait_for_user()` as the last line of your code.\n",
    " - Jupyter notebook works like one big Python script, even though it is broken up into sections. This means that you could create a Turtle in one cell, move it in a later cell, and then `wait_for_user()` in yet another. Despite this, it might be easier to treat each cell in this assignment as a separate script, creating a new world at the beginning and destroying it at the end of each."
   ]
  },
  {
   "cell_type": "markdown",
   "metadata": {},
   "source": [
    "### Get started\n",
    "\n",
    "Run the code in the cell below and make sure everything works. You should see brave Alice spring into the world and run forward. You can close the window when you're done by clicking on the 'X'. If this simple test doesn't work, check your swampy install (especially if you get an `ImportError`) and ask for help."
   ]
  },
  {
   "cell_type": "markdown",
   "metadata": {},
   "source": [
    "- a package is  a  collection  of  modules\n",
    "- an example of a module in a package is TurtleWorld in Swampy\n",
    "- TurtleWorld provides a set of functions for drawing lines by steering turtles around the screen."
   ]
  },
  {
   "cell_type": "code",
   "execution_count": 6,
   "metadata": {
    "collapsed": true
   },
   "outputs": [],
   "source": [
    "from swampy.TurtleWorld import *\n",
    "\n",
    "# Create the world, and a turtle to put in it\n",
    "world = TurtleWorld()\n",
    "alice = Turtle()\n",
    "\n",
    "# Get moving, turtle!\n",
    "fd(alice, 50)\n",
    "\n",
    "# Wait for the user to close the window\n",
    "wait_for_user()"
   ]
  },
  {
   "cell_type": "markdown",
   "metadata": {
    "is_question": true,
    "problem": "Section 4.3"
   },
   "source": [
    "### Section 4.3 exercises\n",
    "Work through exercises 1-5 in Section 4.3, creating the `square`, `polygon`, `circle`, and `arc` functions. You can reference Allen's solutions, but please try the problems on your own first."
   ]
  },
  {
   "cell_type": "markdown",
   "metadata": {},
   "source": [
    "- a development plan is a process for writing programs\n",
    "- here we used “encapsulation and generalization\"\n",
    "    - Start by writing a small program with no function definitions\n",
    "    - Once you get the program working, encapsulate it in a function and give it a name\n",
    "    - Generalize the function by adding appropriate parameters\n",
    "    - Repeat steps 1–3 until you have a set of working functions. Copy and paste working code to avoid retyping (and re-debugging)\n",
    "    -  Look for opportunities to improve the program by refactoring.  For example, if you have similar code in several places, consider factoring it into an appropriately general function"
   ]
  },
  {
   "cell_type": "code",
   "execution_count": 45,
   "metadata": {
    "collapsed": false,
    "solution": "Section 4.3"
   },
   "outputs": [],
   "source": [
    "from swampy.TurtleWorld import *\n",
    "world = TurtleWorld()\n",
    "bob = Turtle()\n",
    "bob.delay = .01\n",
    "from math import *\n",
    "def square(t, length):\n",
    "    \"\"\" draws 4 line segments that form a square with specified side lengths\"\"\"\n",
    "    for i in range(4):\n",
    "        fd(t,length)\n",
    "        lt(t)\n",
    "    wait_for_user()\n",
    "# square(bob, 50)\n",
    "\n",
    "def polygon(t, k, length):\n",
    "    \"\"\"draws polygon of k sides and specified side lengths\"\"\"\n",
    "    for i in range(k):\n",
    "        fd(t, length)\n",
    "        lt(t, 360/k)\n",
    "    wait_for_user()\n",
    "# polygon(bob, 20, 50)\n",
    "\n",
    "def circle(t, r):\n",
    "    \"\"\"draws circle of radius r in 180 line segments\"\"\"\n",
    "    k = 180\n",
    "    circumference = 2*pi*r\n",
    "    length = circumference / k\n",
    "    polygon(t, k, length)\n",
    "    wait_for_user()\n",
    "    \n",
    "# circle(bob, 100)\n",
    "\n",
    "def arc(t, r, angle):\n",
    "    \"\"\"draws an arc of radius r and specified angle\"\"\"\n",
    "    circumference = 2*pi*r\n",
    "    arc_length = circumference*(angle/360.0)\n",
    "    steps = 180.0\n",
    "    step_angle = angle/steps\n",
    "    step_length = arc_length/steps\n",
    "    for i in range(int(steps)):\n",
    "        fd(t, step_length)\n",
    "        lt(t, step_angle)\n",
    "    wait_for_user()\n",
    "\n",
    "arc(bob, 75, 180)"
   ]
  },
  {
   "cell_type": "markdown",
   "metadata": {
    "is_question": true,
    "problem": "More fun"
   },
   "source": [
    "### Exercise: More fun with Turtles!\n",
    "Complete at least one of Exercise 2, 3, 4, or 5. If you come up with some cool drawings you'd like to share with the rest of the class, let us know!"
   ]
  },
  {
   "cell_type": "code",
   "execution_count": 18,
   "metadata": {
    "collapsed": false,
    "solution": "More fun"
   },
   "outputs": [],
   "source": [
    "from swampy.TurtleWorld import *\n",
    "world = TurtleWorld()\n",
    "bob = Turtle()\n",
    "bob.delay = .01\n",
    "from math import *\n",
    "\n",
    "def triangle(t, l):\n",
    "    \"\"\"draws one equilateral triangle with side lengths l\"\"\"\n",
    "    for i in range(3):\n",
    "        fd(t, l)\n",
    "        lt(t, 120)\n",
    "\n",
    "def two_triangles(t, l):\n",
    "    \"\"\"draws a pie of 6 equilateral triangles of side lengths l\"\"\"\n",
    "    \n",
    "    for i in range(6):\n",
    "        \n",
    "        triangle(t, l)\n",
    "        lt(t,60)\n",
    "        \n",
    "    wait_for_user()\n",
    "\n",
    "two_triangles(bob, 100) \n",
    "    \n",
    "    "
   ]
  },
  {
   "cell_type": "markdown",
   "metadata": {},
   "source": [
    "## Reading Journal feedback\n",
    "\n",
    "Have any comments on this Reading Journal? Feel free to leave them below and we'll read them when you submit your journal entry. This could include suggestions to improve the exercises, topics you'd like to see covered in class next time, or other feedback.\n",
    "\n",
    "If you have Python questions or run into problems while completing the reading, you should post them to Piazza instead so you can get a quick response before your journal is submitted."
   ]
  },
  {
   "cell_type": "markdown",
   "metadata": {},
   "source": [
    " "
   ]
  },
  {
   "cell_type": "code",
   "execution_count": null,
   "metadata": {
    "collapsed": true
   },
   "outputs": [],
   "source": []
  }
 ],
 "metadata": {
  "kernelspec": {
   "display_name": "Python 2",
   "language": "python",
   "name": "python2"
  },
  "language_info": {
   "codemirror_mode": {
    "name": "ipython",
    "version": 2
   },
   "file_extension": ".py",
   "mimetype": "text/x-python",
   "name": "python",
   "nbconvert_exporter": "python",
   "pygments_lexer": "ipython2",
   "version": "2.7.6"
  }
 },
 "nbformat": 4,
 "nbformat_minor": 0
}
